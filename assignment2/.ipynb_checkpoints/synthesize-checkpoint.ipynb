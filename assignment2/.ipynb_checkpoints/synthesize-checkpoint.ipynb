{
 "cells": [
  {
   "cell_type": "markdown",
   "metadata": {
    "deletable": false,
    "editable": false,
    "nbgrader": {
     "cell_type": "markdown",
     "checksum": "8a9e160a7b9b06678562bab0a4485857",
     "grade": false,
     "grade_id": "cell-6ec5aa4507a8f918",
     "locked": true,
     "schema_version": 3,
     "solution": false
    }
   },
   "source": [
    "<center>\n",
    "\n",
    "# Discrete Event Systems\n",
    "\n",
    "## Home Assignment 2\n",
    "\n",
    "### Nonblocking and Controllable Supervisor Synthesis\n",
    "\n",
    "- - -"
   ]
  },
  {
   "cell_type": "markdown",
   "metadata": {
    "deletable": false,
    "editable": false,
    "nbgrader": {
     "cell_type": "markdown",
     "checksum": "2eac39146a1416ffd3707e7a6a3aa2ff",
     "grade": false,
     "grade_id": "cell-d299ce342e54a4d8",
     "locked": true,
     "schema_version": 3,
     "solution": false
    }
   },
   "source": [
    "# Introduction\n",
    "\n",
    "The objective of this home assignment is to extend the results already obtained in Home Assignment 1 by including uncontrollable events and generating a supervisor that is both nonblocking and controllable. This will be achieved by implementing two algorithms already presented in the lecture notes in Python, but also implementing a new function that generates uncontrollable states.\n",
    "\n",
    "This home assignment is performed in *two member groups*. Write all your answers into this notebook and **submit only this notebook (.ipynb) on Canvas**"
   ]
  },
  {
   "cell_type": "markdown",
   "metadata": {
    "deletable": false,
    "editable": false,
    "nbgrader": {
     "cell_type": "markdown",
     "checksum": "14abe1ee69c34704c9d8abc01f5697e9",
     "grade": false,
     "grade_id": "cell-8dfe6514b5b0e564",
     "locked": true,
     "schema_version": 3,
     "solution": false
    }
   },
   "source": [
    "## Comments and Recommendations\n",
    "Once again:\n",
    "* The following resources will be of great help to you for this assignment:\n",
    " * Lecture notes\n",
    " * [Python docs](https://docs.python.org/3/)\n",
    " * [Google](https://www.google.com)\n",
    " * [Wikipedia overview of syntax and semantics](https://en.wikipedia.org/wiki/Python_syntax_and_semantics)\n",
    "* This assignment is written for Python 3.5 or later!\n",
    "* If you get stuck with Python or Jupyter, try to google it! E.g. your search query could be *\"python --INSERT ERROR HERE--\"*. Chances are high, heaps of people had the same problem before you.\n",
    "* If your code passes all the tests in this notebook, you are on a good way. That does not mean you have passed though! We will test your code with additional edge cases. So convince yourself that everything is correct before you submit."
   ]
  },
  {
   "cell_type": "markdown",
   "metadata": {
    "deletable": false,
    "editable": false,
    "nbgrader": {
     "cell_type": "markdown",
     "checksum": "c1ff1490f5f6ed2f4bc2f7a407965184",
     "grade": false,
     "grade_id": "cell-14d9e8d5cc01d1b4",
     "locked": true,
     "schema_version": 3,
     "solution": false
    }
   },
   "source": [
    "- - -"
   ]
  },
  {
   "cell_type": "markdown",
   "metadata": {},
   "source": [
    "# Task 1\n",
    "\n",
    "## Reachability v.2 *[2p]*\n",
    "\n",
    "Before we can turn to the synthesis of non-blocking and controllable supervisors, we need to update our `reach` function to handle uncontrollable events and forbidden states too.\n",
    "\n",
    "As defined in chapter 6 of the lecture notes the reachability algorithm is as follows:\n",
    "\n",
    "**Algorithm 1.** Reachability($\\Sigma, \\delta, Q_0, Q_x$)\n",
    "\n",
    ">**let** $k:=0, Q_0 := Q_0 \\setminus Q_x$\n",
    ">\n",
    ">**repeat**\n",
    ">\n",
    ">>$k := k+1$\n",
    ">>\n",
    ">>$Q_k := Q_{k-1} \\cup \\{q^+ \\mid \\exists q \\in Q_{k-1} \\wedge \\exists \\sigma \\in \\Sigma \\wedge \\delta(q,\\sigma) = q^+ \\} \\setminus Q_x $\n",
    ">>\n",
    ">**until** $Q_k = Q_{k-1}$\n",
    ">\n",
    "**return** $Q_k$\n",
    "\n",
    "In this assignment, we will re-use parts of Assignment 1. Make sure to execute the cell below."
   ]
  },
  {
   "cell_type": "code",
   "execution_count": 1,
   "metadata": {
    "deletable": false,
    "editable": false,
    "nbgrader": {
     "cell_type": "code",
     "checksum": "b2a65e69f09214fdf25639afef62cbd3",
     "grade": false,
     "grade_id": "cell-5273404d76bb9d7c",
     "locked": true,
     "schema_version": 3,
     "solution": false
    }
   },
   "outputs": [],
   "source": [
    "from util import Transition\n",
    "from util import plot_automaton\n",
    "from util import filter_trans_by_source, filter_trans_by_events, filter_trans_by_target\n",
    "from util import extract_elems_from_trans, flip_trans"
   ]
  },
  {
   "cell_type": "code",
   "execution_count": 2,
   "metadata": {
    "deletable": false,
    "nbgrader": {
     "cell_type": "code",
     "checksum": "2ddbb120cc081f25384defc7f93b9d31",
     "grade": false,
     "grade_id": "reach",
     "locked": false,
     "schema_version": 3,
     "solution": true
    }
   },
   "outputs": [],
   "source": [
    "# Now implement the reachability algorithm by extending your reach function from assignment 1\n",
    "def reach(events, trans, start_states, forbidden):\n",
    "    \"\"\"\n",
    "    Returns the forward reachable states of a transition set\n",
    "    \n",
    "    :param events: set of events\n",
    "    :param trans: set of transitions\n",
    "    :param start_states: set of states\n",
    "    :param forbidden: set of forbidden states\n",
    "    \"\"\"\n",
    "    reach_states = set()\n",
    "    start_states = start_states - forbidden\n",
    "    reach_states.update(start_states)\n",
    "    localy_trans = filter_trans_by_events(trans,events)\n",
    "    temp_trans = filter_trans_by_source(localy_trans,start_states)\n",
    "    temp_targets = extract_elems_from_trans(temp_trans,'target')\n",
    "    new_trans = filter_trans_by_source(localy_trans,temp_targets)\n",
    "    \n",
    "    while not temp_targets.issubset(reach_states):\n",
    "        temp_states = temp_targets\n",
    "        temp_targets = temp_targets - forbidden\n",
    "        reach_states.update(temp_targets)\n",
    "        new_trans = filter_trans_by_source(localy_trans,temp_targets)\n",
    "        temp_targets = extract_elems_from_trans(new_trans,'target')\n",
    "        \n",
    "    return reach_states\n",
    "\n",
    "\n",
    "#     k=0\n",
    "    \n",
    "#     states =  None\n",
    "#     state_list = start_states.difference(forbidden)\n",
    "#     while states != state_list:\n",
    "#         k+=1\n",
    "#         states = state_list\n",
    "#         state_list = None\n",
    "        \n",
    "#         A = extract_elems_from_trans(filter_trans_by_source(filter_trans_by_events(trans, events), states), 'target')\n",
    "        \n",
    "#         state_list = states|A\n",
    "#         state_list -= forbidden\n",
    "        \n",
    "#     reach_states = states\n",
    "#     #print(reach_states)\n",
    "#     return reach_states"
   ]
  },
  {
   "cell_type": "code",
   "execution_count": 3,
   "metadata": {},
   "outputs": [],
   "source": [
    "#Space for your tests"
   ]
  },
  {
   "cell_type": "code",
   "execution_count": 4,
   "metadata": {
    "deletable": false,
    "editable": false,
    "nbgrader": {
     "cell_type": "code",
     "checksum": "fb0d772819ed51ee3537070275bcbb4d",
     "grade": true,
     "grade_id": "reach_test",
     "locked": true,
     "points": 2,
     "schema_version": 3,
     "solution": false
    }
   },
   "outputs": [],
   "source": [
    "# Single state\n",
    "reachable = reach(set(), set(), {1}, set())\n",
    "assert reachable == {1}, 'Got {} instead'.format(reachable)\n",
    "reachable = reach({'a'}, {Transition(1, 'a', 1)}, {1}, set())\n",
    "assert reachable == {1}, 'Got {} instead'.format(reachable)\n",
    "\n",
    "# Simple automata\n",
    "reachable = reach({'a'}, {Transition(1, 'a', 2)}, {1}, set())\n",
    "assert reachable == {1, 2}, 'Got {} instead'.format(reachable)\n",
    "reachable = reach({'a'}, {Transition(2, 'a', 1)}, {1}, set())\n",
    "assert reachable == {1}, 'Got {} instead'.format(reachable)\n",
    "reachable = reach({'a'}, {Transition(2, 'a', 1), Transition(1, 'a', 2)}, {1}, set())\n",
    "assert reachable == {1, 2}, 'Got {} instead'.format(reachable)\n",
    "\n",
    "# Parallel transitions\n",
    "reachable = reach({'a', 'b'}, {Transition(1, 'a', 2), Transition(1, 'b', 2)}, {1}, set())\n",
    "assert reachable == {1, 2}, 'Got {} instead'.format(reachable)\n",
    "reachable = reach({'a', 'b'}, {Transition(2, 'a', 1), Transition(2, 'b', 1)}, {1}, set())\n",
    "assert reachable == {1}, 'Got {} instead'.format(reachable)\n",
    "\n",
    "# Handling of forbidden states\n",
    "reachable = reach({'a'}, {Transition(1, 'a', 2)}, {1}, {1})\n",
    "assert reachable == set(), 'Got {} instead'.format(reachable)\n",
    "reachable = reach({'a'}, {Transition(1, 'a', 2)}, {1}, {2})\n",
    "assert reachable == {1}, 'Got {} instead'.format(reachable)\n",
    "\n",
    "# Larger automata\n",
    "reachable = reach({'a'},\n",
    "                  {Transition(1, 'a', 2), Transition(2, 'a', 3), Transition(3, 'a', 1)},\n",
    "                  {1},\n",
    "                  set())\n",
    "assert reachable == {1, 2, 3}, 'Got {} instead'.format(reachable)"
   ]
  },
  {
   "cell_type": "markdown",
   "metadata": {
    "deletable": false,
    "editable": false,
    "nbgrader": {
     "cell_type": "markdown",
     "checksum": "8c623c6cf60ee6b643b945e2e997376f",
     "grade": false,
     "grade_id": "cell-bd0cf70d10622a53",
     "locked": true,
     "schema_version": 3,
     "solution": false
    }
   },
   "source": [
    "# Preliminaries\n",
    "\n",
    "For the remainder of the assignment use the functions given below."
   ]
  },
  {
   "cell_type": "code",
   "execution_count": 5,
   "metadata": {},
   "outputs": [],
   "source": [
    "from util import Automaton\n",
    "from util import merge_label, cross_product \n",
    "\n",
    "\n",
    "def coreach(events, trans, start_states, forbidden):\n",
    "    \"\"\"\n",
    "    Returns the coreachable (backward reachable) states of a transition set\n",
    "    \n",
    "    :param events: set of events\n",
    "    :param trans: set of transitions\n",
    "    :param start_states: set of states\n",
    "    :param forbidden: set of forbidden states\n",
    "    \"\"\"\n",
    "    return reach(events, flip_trans(trans), start_states, forbidden)\n",
    "\n",
    "\n",
    "def synch(aut1, aut2):\n",
    "    \"\"\"\n",
    "    Returns the synchronous composition of two automata.\n",
    "    \n",
    "    :param aut1: Automaton\n",
    "    :param aut2: Automaton\n",
    "    \"\"\"\n",
    "    states = cross_product(aut1.states, aut2.states)\n",
    "    init = merge_label(aut1.init, aut2.init)\n",
    "    events = aut1.events | aut2.events\n",
    "    \n",
    "    # Add self loops\n",
    "    trans1 = aut1.trans.copy()\n",
    "    for event in aut2.events - aut1.events:\n",
    "        for state in aut1.states:\n",
    "            trans1.add(Transition(state, event, state))\n",
    "    \n",
    "    trans2 = aut2.trans.copy()\n",
    "    for event in aut1.events - aut2.events:\n",
    "        for state in aut2.states:\n",
    "            trans2.add(Transition(state, event, state))\n",
    "    \n",
    "    # Transitions\n",
    "    trans = set()\n",
    "    for t1 in trans1:\n",
    "        for t2 in trans2:\n",
    "            if t1.event == t2.event:\n",
    "                trans.add(Transition(merge_label(t1.source, t2.source),\n",
    "                                     t1.event,\n",
    "                                     merge_label(t1.target, t2.target)))\n",
    "    \n",
    "    # Marked states\n",
    "    m1 = aut1.marked if aut1.marked else aut1.states\n",
    "    m2 = aut2.marked if aut2.marked else aut2.states\n",
    "    marked = cross_product(m1, m2)\n",
    "    \n",
    "    # Forbidden states\n",
    "    forbidden = cross_product(aut1.forbidden, aut2.states) | cross_product(aut1.states, aut2.forbidden)\n",
    "    \n",
    "    # Removing unreachable states\n",
    "    reachable = reach(events, trans, {init}, set())\n",
    "    marked &= reachable\n",
    "    forbidden &= reachable\n",
    "    trans = filter_trans_by_source(trans, reachable)\n",
    "    \n",
    "    # Create synchronized automaton\n",
    "    return Automaton(reachable, init, events, trans, marked, forbidden)"
   ]
  },
  {
   "cell_type": "markdown",
   "metadata": {
    "deletable": false,
    "editable": false,
    "nbgrader": {
     "cell_type": "markdown",
     "checksum": "caf7fda28bc36ac8a4159b2a3415f723",
     "grade": false,
     "grade_id": "cell-9d31ed14c04b490c",
     "locked": true,
     "schema_version": 3,
     "solution": false
    }
   },
   "source": [
    "- - -"
   ]
  },
  {
   "cell_type": "markdown",
   "metadata": {
    "deletable": false,
    "editable": false,
    "nbgrader": {
     "cell_type": "markdown",
     "checksum": "68af9fd30e944021bc0e207a70b611bc",
     "grade": false,
     "grade_id": "cell-777ac3adcbea1aa1",
     "locked": true,
     "schema_version": 3,
     "solution": false
    }
   },
   "source": [
    "# Task 2\n",
    "\n",
    "## Synthesis *[3p]*\n",
    "\n",
    "Using `reach`, `coreach` and `synch`, your task is now to implement:\n",
    "\n",
    "$\\qquad$ `S = supervisor(P, Sp, sigma_u)`\n",
    "    \n",
    "that, given a plant $P$, a specification $Sp$ and a set of uncontrollable events $\\Sigma_u$, generates a nonblocking and controllable supervisor $S$. Note that $\\Sigma_u \\subseteq \\Sigma^P$, and it is assumed that $\\Sigma^{Sp} \\subseteq \\Sigma^P$, where $\\Sigma^P$ and $\\Sigma^{Sp}$ are the event sets of the plant $P$ and the specification $Sp$. The supervisor is generated by implementing and applying algorithm 3 in the lecture notes.\n",
    "\n",
    "Your code should raise a `ValueError` when there exist no supervisor that can fulfill the specification:\n",
    "\n",
    "$\\qquad$ `if noSupervisorExists: raise ValueError`\n",
    "\n",
    "* *Note:* If more than one plant and/or specification model are involved, the total plant and/or specification model is generated by synchronizing the local models. For instance, $P_1, P_2, Sp_1$ and $Sp_2$ gives $P = P_1 \\parallel P_2$ and $Sp = Sp_1 \\parallel Sp_2$.\n",
    "\n",
    "* *Note:* One of the input sets in Algorithm 3 is the set of forbidden states. Implement specifically a function that generates this forbidden state set, including both explicitly forbidden states and uncontrollable states.\n",
    "\n",
    "* *Note:* In the synchronization of two automaton $A$ and $B$, the names of the original states $q^A$ and $q^B$ can be identified, since the merge state function generates state names $q^A.q^B$. Identification of the reachable states in $P \\parallel Sp$ and the corresponding states in $P$ and $Sp$ simplifies the generation of the uncontrollable states. "
   ]
  },
  {
   "cell_type": "markdown",
   "metadata": {
    "deletable": false,
    "editable": false,
    "nbgrader": {
     "cell_type": "markdown",
     "checksum": "4159a61e855a6595b51effbd91c58791",
     "grade": false,
     "grade_id": "cell-20bae39ada6e58e6",
     "locked": true,
     "schema_version": 3,
     "solution": false
    }
   },
   "source": [
    "Here are some helper functions that might help you with your implementation of the algorithm in code."
   ]
  },
  {
   "cell_type": "code",
   "execution_count": 6,
   "metadata": {
    "deletable": false,
    "editable": false,
    "nbgrader": {
     "cell_type": "code",
     "checksum": "7bdfd755269e75d41b2a3d88f8907b4c",
     "grade": false,
     "grade_id": "cell-7662cb2eea3fb197",
     "locked": true,
     "schema_version": 3,
     "solution": false
    }
   },
   "outputs": [],
   "source": [
    "# These two functions follow the definition of uncontrollable states given on page 100 in the Lecture Notes\n",
    "def is_defined_for_p(p_trans, merged_source, shared_sigma_u):\n",
    "    \"\"\"\n",
    "    Boolean check whether there is an uncontrollable transition defined in P\n",
    "    with the merged_source as start state.\n",
    "    \n",
    "    :param p_trans: Set of transitions in automaton P\n",
    "    :param merged_source: String label of the merged state in P||Q\n",
    "    :param shared_sigma_u: Set of uncontrollable events shared between P and Q.\n",
    "    \"\"\"\n",
    "    validate_inputs(p_trans, merged_source, shared_sigma_u)\n",
    "    uncontrollable_trans = filter_trans_by_events(p_trans, shared_sigma_u)\n",
    "    u_trans_from_merged_source = {t for t in uncontrollable_trans \n",
    "                                  if merged_source.startswith(str(t.source))}\n",
    "    return u_trans_from_merged_source != set()\n",
    "\n",
    "\n",
    "def is_defined_for_q(q_trans, merged_source, shared_sigma_u):\n",
    "    \"\"\"\n",
    "    Boolean check whether there is an uncontrollable transition defined in Q\n",
    "    with the merged_source as start state.\n",
    "    \n",
    "    :param q_trans: Set of transitions in automaton Q\n",
    "    :param merged_source: String label of the merged state in P||Q\n",
    "    :param shared_sigma_u: Set of uncontrollable events shared between P and Q.\n",
    "    \"\"\"\n",
    "    validate_inputs(q_trans, merged_source, shared_sigma_u)\n",
    "    uncontrollable_trans = filter_trans_by_events(q_trans, shared_sigma_u)\n",
    "    u_trans_from_merged_source = {t for t in uncontrollable_trans \n",
    "                                  if merged_source.endswith(str(t.source))}\n",
    "    return u_trans_from_merged_source != set()\n",
    "\n",
    "\n",
    "def validate_inputs(trans, source, events):\n",
    "    assert type(trans) is set\n",
    "    assert type(source) is str\n",
    "    assert type(events) is set"
   ]
  },
  {
   "cell_type": "code",
   "execution_count": 28,
   "metadata": {
    "deletable": false,
    "nbgrader": {
     "cell_type": "code",
     "checksum": "c18418ed4d5e184db899722f99048ca5",
     "grade": false,
     "grade_id": "supervisor_impl",
     "locked": false,
     "schema_version": 3,
     "solution": true
    }
   },
   "outputs": [],
   "source": [
    "# Now implement the function in code\n",
    "def supervisor(P, Sp, sigma_u):\n",
    "    S = synch(P, Sp)\n",
    "    sigma_u_both = sigma_u.intersection(Sp.events)\n",
    "    \n",
    "    uncontrollable_state_P = set()\n",
    "    uncontrollable_state_Sp = set()\n",
    "    \n",
    "    for state in S.states:\n",
    "        for sigma in sigma_u_both:\n",
    "            if is_defined_for_p(P.trans, state, {sigma}):\n",
    "                uncontrollable_state_P.update({state})\n",
    "            if is_defined_for_q(Sp.trans, state, {sigma}):\n",
    "                uncontrollable_state_Sp.update({state})\n",
    "    \n",
    "    uncontrollable_states = uncontrollable_state_P - uncontrollable_state_Sp\n",
    "    Q_x0 = uncontrollable_states.union(S.forbidden)\n",
    "    X_k_1 = set()\n",
    "    X_k = Q_x0\n",
    "    \n",
    "    while True:\n",
    "        X_k_1 = X_k.copy()\n",
    "        Q_prime = coreach(S.events,S.trans,S.marked,X_k_1)\n",
    "        Q_prime2 = coreach(sigma_u_both,S.trans,S.states.difference(Q_prime),set())\n",
    "        X_k = X_k_1 | Q_prime2\n",
    "        if X_k == X_k_1:\n",
    "            break\n",
    "        \n",
    "    Supervisor_states = S.states.difference(X_k)\n",
    "    print(Supervisor_states)\n",
    "    Supervisor_trans = {tran for tran in S.trans if ((tran.source in Supervisor_states) and (tran.target in Supervisor_states))}\n",
    "    Supervisor_marked = S.marked.intersection(Supervisor_states) if S.marked.intersection(Supervisor_states)!=set() else Supervisor_states\n",
    "\n",
    "    if Supervisor_states == set(): \n",
    "        raise ValueError\n",
    "        \n",
    "    return Automaton(Supervisor_states, S.init, S.events, Supervisor_trans, Supervisor_marked)\n",
    "\n"
   ]
  },
  {
   "cell_type": "code",
   "execution_count": 29,
   "metadata": {},
   "outputs": [
    {
     "name": "stdout",
     "output_type": "stream",
     "text": [
      "{'1.1'}\n",
      "states: \n",
      "\t{'1.1', '2.2'}\n",
      "init: \n",
      "\t1.1\n",
      "events: \n",
      "\t{'a', 'b'}\n",
      "transitions: \n",
      "\tTransition(source='1.1', event='a', target='2.2')\n",
      "marked: \n",
      "\t{'1.1', '2.2'}\n",
      "forbidden: \n",
      "\tset()\n",
      "\n",
      "Supervisor below-----------------\n",
      "states: \n",
      "\t{'1.1'}\n",
      "init: \n",
      "\t1.1\n",
      "events: \n",
      "\t{'a', 'b'}\n",
      "transitions: \n",
      "\t\n",
      "marked: \n",
      "\t{'1.1'}\n",
      "forbidden: \n",
      "\tset()\n",
      "\n"
     ]
    }
   ],
   "source": [
    "# Space for your own tests\n",
    "#Test case 2 - Three states and an uncontrolable event\n",
    "P = Automaton(states={1, 2, 3},\n",
    "              init=1,\n",
    "              events={'a', 'b'},\n",
    "              trans={Transition(1, 'a', 2), Transition(2, 'b', 3)})\n",
    "Sp = Automaton(states={1, 2},\n",
    "               init=1,\n",
    "               events={'a', 'b'},\n",
    "               trans={Transition(1, 'a', 2)})\n",
    "S = supervisor(P, Sp, {'b'})\n",
    "assert S.states == {'1.1'}, 'TC 2.1 - got {} instead'.format(S.states)\n",
    "assert S.init == '1.1', 'TC 2.2 - got {} instead'.format(S.init)\n",
    "assert S.events == {'a', 'b'}, 'TC 2.3 - got {} instead'.format(S.events)\n",
    "assert S.forbidden == set(), 'TC 2.4 - got {} instead'.format(S.forbidden)\n",
    "print(synch(P,Sp))\n",
    "print('Supervisor below-----------------')\n",
    "print(S)"
   ]
  },
  {
   "cell_type": "code",
   "execution_count": 30,
   "metadata": {
    "code_folding": [],
    "deletable": false,
    "editable": false,
    "nbgrader": {
     "cell_type": "code",
     "checksum": "5f0e91527b7a85b8872af2c4fb283409",
     "grade": true,
     "grade_id": "supervisor_test",
     "locked": true,
     "points": 3,
     "schema_version": 3,
     "solution": false
    }
   },
   "outputs": [
    {
     "name": "stdout",
     "output_type": "stream",
     "text": [
      "{'1.2'}\n",
      "{'2.2', '1.1', '3.2'}\n",
      "{'1.1'}\n",
      "{'1.1'}\n",
      "{'1.1'}\n"
     ]
    }
   ],
   "source": [
    "# Test case 0 - Single states\n",
    "P = Automaton(states={1},\n",
    "              init=1,\n",
    "              events=set(),\n",
    "              trans=set())\n",
    "Sp = Automaton(states={2},\n",
    "               init=2,\n",
    "               events=set(),\n",
    "               trans=set())\n",
    "S = supervisor(P, Sp, set())\n",
    "assert S.states == {'1.2'}, 'TC 0.1 - got {} instead'.format(S.states)\n",
    "assert S.events == set(), 'TC 0.2 - got {} instead'.format(S.events)\n",
    "\n",
    "# Test case 1 - Three states\n",
    "P = Automaton(states={1, 2, 3},\n",
    "              init=1,\n",
    "              events={'a', 'b'},\n",
    "              trans={Transition(1, 'a', 2), Transition(2, 'b', 3)})\n",
    "Sp = Automaton(states={1, 2},\n",
    "               init=1,\n",
    "               events={'a'},\n",
    "               trans={Transition(1, 'a', 2)})\n",
    "S = supervisor(P, Sp, set())\n",
    "assert S.states == {'1.1', '2.2', '3.2'}, 'TC 1.1 - got {} instead'.format(S.states)\n",
    "assert S.init == '1.1', 'TC 1.2 - got {} instead'.format(S.init)\n",
    "assert S.events == {'a', 'b'}, 'TC 1.3 - got {} instead'.format(S.events)\n",
    "assert S.forbidden == set(), 'TC 1.4 - got {} instead'.format(S.forbidden)\n",
    "\n",
    "# Test case 2 - Three states and an uncontrolable event\n",
    "P = Automaton(states={1, 2, 3},\n",
    "              init=1,\n",
    "              events={'a', 'b'},\n",
    "              trans={Transition(1, 'a', 2), Transition(2, 'b', 3)})\n",
    "Sp = Automaton(states={1, 2},\n",
    "               init=1,\n",
    "               events={'a', 'b'},\n",
    "               trans={Transition(1, 'a', 2)})\n",
    "S = supervisor(P, Sp, {'b'})\n",
    "assert S.states == {'1.1'}, 'TC 2.1 - got {} instead'.format(S.states)\n",
    "assert S.init == '1.1', 'TC 2.2 - got {} instead'.format(S.init)\n",
    "assert S.events == {'a', 'b'}, 'TC 2.3 - got {} instead'.format(S.events)\n",
    "assert S.forbidden == set(), 'TC 2.4 - got {} instead'.format(S.forbidden)\n",
    "\n",
    "# Test case 3 - Two uncontrollable transitions in a sequence\n",
    "P = Automaton(states={1, 2, 3, 4},\n",
    "              init=1,\n",
    "              events={'a', 'b'},\n",
    "              trans={Transition(1, 'a', 2), Transition(2, 'b', 3), Transition(3, 'b', 4)})\n",
    "Sp1 = Automaton(states={1, 2, 3, 4},\n",
    "                init=1,\n",
    "                events={'a', 'b'},\n",
    "                trans={Transition(1, 'a', 2), Transition(2, 'b', 3), Transition(3, 'b', 4)},\n",
    "                marked={1, 2})\n",
    "Sp1 = Automaton(\n",
    "    states={1, 2, 3},\n",
    "    init=1,events={'a', 'b'},\n",
    "    trans={Transition(1, 'a', 2), Transition(2, 'b', 3)},\n",
    "    marked={1, 2}\n",
    ") \n",
    "Sp2 = Automaton(states={1, 2, 3, 4},\n",
    "                init=1,\n",
    "                events={'a', 'b'},\n",
    "                trans={Transition(1, 'a', 2), Transition(2, 'b', 3), Transition(3, 'b', 4)},\n",
    "                marked={1, 2})\n",
    "S = supervisor(P, Sp1, {'b'})\n",
    "assert S == supervisor(P, Sp2, {'b'})\n",
    "assert S.states == {'1.1'}, 'TC 3.1 - got {} instead'.format(S.states)\n",
    "assert S.init == '1.1', 'TC 3.2 - got {} instead'.format(S.init)\n",
    "assert S.events == {'a', 'b'}, 'TC 3.3 - got {} instead'.format(S.events)\n",
    "assert S.trans == set(), 'TC 3.4 - got {} instead'.format(S.trans)\n",
    "assert S.forbidden == set(), 'TC 3.4 - got {} instead'.format(S.forbidden)"
   ]
  },
  {
   "cell_type": "markdown",
   "metadata": {
    "deletable": false,
    "editable": false,
    "nbgrader": {
     "cell_type": "markdown",
     "checksum": "d11fe46a5b8dc42a36e20f63dabc85b7",
     "grade": false,
     "grade_id": "cell-c55d42dab3dd9445",
     "locked": true,
     "schema_version": 3,
     "solution": false
    }
   },
   "source": [
    "---"
   ]
  },
  {
   "cell_type": "markdown",
   "metadata": {
    "deletable": false,
    "editable": false,
    "nbgrader": {
     "cell_type": "markdown",
     "checksum": "62011507adb670cacd81b5adb35a4666",
     "grade": false,
     "grade_id": "cell-a08b96ce1c4b191f",
     "locked": true,
     "schema_version": 3,
     "solution": false
    }
   },
   "source": [
    "# Task 3\n",
    "\n",
    "Evaluate the implementation in Task 2 by generating a nonblocking and controllable supervisor $S$ for the plant and specification models given in \n",
    "\n",
    "* Example 7.5 on p. 113 in the Lecture Notes. **[1p]**\n",
    "\n",
    "* Example 7.6 on p. 114 in the Lecture Notes. **[1p]**\n",
    "\n",
    "* Task 3 in the Exam Oct 24, 2015 (defined below). **[1p]**"
   ]
  },
  {
   "cell_type": "markdown",
   "metadata": {
    "deletable": false,
    "editable": false,
    "nbgrader": {
     "cell_type": "markdown",
     "checksum": "d0819d313a90c080e92f39dc5f6d1801",
     "grade": false,
     "grade_id": "cell-edcd7a107a198eb6",
     "locked": true,
     "schema_version": 3,
     "solution": false
    }
   },
   "source": [
    "## Example 7.5"
   ]
  },
  {
   "cell_type": "code",
   "execution_count": 21,
   "metadata": {
    "deletable": false,
    "nbgrader": {
     "cell_type": "code",
     "checksum": "fa81a8199ab4854b5aab55e04a3800cf",
     "grade": false,
     "grade_id": "ex7_5",
     "locked": false,
     "schema_version": 3,
     "solution": true
    }
   },
   "outputs": [
    {
     "name": "stdout",
     "output_type": "stream",
     "text": [
      "{'p12.p21.sp12.sp21', 'p11.p21.sp11.sp22', 'p12.p21.sp11.sp22', 'p12.p22.sp12.sp22', 'p11.p21.sp12.sp22', 'p12.p21.sp12.sp22'}\n",
      "Here\n",
      "{'p12.p22.sp12.sp22', 'p12.p21.sp12.sp22', 'p12.p21.sp12.sp21', 'p11.p21.sp11.sp22', 'p11.p21.sp12.sp22', 'p12.p21.sp11.sp22'}\n",
      "{'p12.p21.sp12.sp21', 'p11.p21.sp11.sp22', 'p12.p21.sp11.sp22', 'p12.p22.sp12.sp22', 'p11.p21.sp12.sp22', 'p12.p21.sp12.sp22'}\n",
      "Here\n",
      "{'p12.p21.sp11.sp21', 'p11.p22.sp12.sp22', 'p12.p22.sp11.sp22', 'p11.p21.sp11.sp21', 'p11.p21.sp12.sp21', 'p11.p22.sp11.sp22'}\n"
     ]
    },
    {
     "data": {
      "image/png": "[encoded data removed]",
      "text/plain": [
       "<IPython.core.display.Image object>"
      ]
     },
     "execution_count": 21,
     "metadata": {},
     "output_type": "execute_result"
    }
   ],
   "source": [
    "# Create automata P1, P2, SP1 and SP2\n",
    "\n",
    "P1 = Automaton(states={'p11', 'p12'},\n",
    "                init='p11',\n",
    "                events={'a', 'b'},\n",
    "                trans={Transition('p11', 'a', 'p12'), Transition('p12', 'b', 'p11')})\n",
    "\n",
    "P2 = Automaton(states={'p21', 'p22'},\n",
    "                init='p21',\n",
    "                events={'c', 'd','e'},\n",
    "                trans={Transition('p21', 'c', 'p22'), Transition('p22', 'd', 'p21'),Transition('p22', 'e', 'p21')})\n",
    "\n",
    "SP1 = Automaton(states={'sp11', 'sp12'},\n",
    "                init='sp11',\n",
    "                events={'b', 'c'},\n",
    "                trans={Transition('sp11', 'b', 'sp12'), Transition('sp12', 'c', 'sp11')},\n",
    "                marked={'sp11'})\n",
    "\n",
    "SP2 = Automaton(states={'sp21', 'sp22'},\n",
    "                init='sp21',\n",
    "                events={'c', 'd'},\n",
    "                trans={Transition('sp21', 'c', 'sp22'), Transition('sp22', 'd', 'sp21')},\n",
    "                marked={'sp21'})\n",
    "\n",
    "Sp = synch(SP1, SP2)\n",
    "P = synch(P1, P2)\n",
    "\n",
    "S = supervisor(P, Sp, {'b'})\n",
    "plot_automaton(S, 'S_7dot5')"
   ]
  },
  {
   "cell_type": "code",
   "execution_count": 22,
   "metadata": {
    "deletable": false,
    "editable": false,
    "nbgrader": {
     "cell_type": "code",
     "checksum": "0d1405a5fec91e165a404aed9cbe0e39",
     "grade": true,
     "grade_id": "ex7_5_test",
     "locked": true,
     "points": 1,
     "schema_version": 3,
     "solution": false
    }
   },
   "outputs": [],
   "source": [
    "assert type(S) is Automaton\n",
    "\n",
    "# This is optional but simplifies the testing\n",
    "p1_states = {'p11', 'p12'}\n",
    "p2_states = {'p21', 'p22'}\n",
    "sp1_states = {'sp11', 'sp12'}\n",
    "sp2_states = {'sp21', 'sp22'}\n",
    "events = {'a', 'b', 'c', 'd', 'e'}\n",
    "assert all({s[0:3] in p1_states and s[4:7] in p2_states and s[8:12] in sp1_states and s[13:17] in sp2_states \n",
    "            for s in S.states}), 'This is optional but, to simplify the tests, \\\n",
    "            please use only the state name from the example and synchronize in the same order, \\\n",
    "            i.e init state would be p1.p2.sp1.sp2'\n",
    "assert all({e in events for e in S.events}), 'This is optional but, to simplify the tests, \\\n",
    "            please use only the event labels from the example.'"
   ]
  },
  {
   "cell_type": "markdown",
   "metadata": {
    "deletable": false,
    "editable": false,
    "nbgrader": {
     "cell_type": "markdown",
     "checksum": "d4a447b5a98d1d87d1a334ec30e7a062",
     "grade": false,
     "grade_id": "cell-7835131a138edbf4",
     "locked": true,
     "schema_version": 3,
     "solution": false
    }
   },
   "source": [
    "## Example 7.6"
   ]
  },
  {
   "cell_type": "code",
   "execution_count": 23,
   "metadata": {
    "deletable": false,
    "nbgrader": {
     "cell_type": "code",
     "checksum": "e07132244c88af262446e6524cf6907c",
     "grade": false,
     "grade_id": "ex7_6",
     "locked": false,
     "schema_version": 3,
     "solution": true
    }
   },
   "outputs": [
    {
     "name": "stdout",
     "output_type": "stream",
     "text": [
      "{'p6.q6', 'p7.q7'}\n",
      "Here\n",
      "{'p6.q6', 'p7.q7'}\n",
      "{'p6.q6', 'p7.q7', 'p5.q5', 'p2.q2'}\n",
      "Here\n",
      "{'p6.q6', 'p2.q2', 'p7.q7', 'p5.q5'}\n",
      "{'p6.q6', 'p7.q7', 'p5.q5', 'p2.q2'}\n",
      "Here\n",
      "{'p4.q4', 'p3.q3', 'p1.q1'}\n"
     ]
    },
    {
     "data": {
      "image/png": "[encoded data removed]",
      "text/plain": [
       "<IPython.core.display.Image object>"
      ]
     },
     "execution_count": 23,
     "metadata": {},
     "output_type": "execute_result"
    }
   ],
   "source": [
    "P = Automaton(states={'p1', 'p2', 'p3', 'p4', 'p5', 'p6', 'p7', 'p8'},\n",
    "              init='p1',\n",
    "              events={'a', 'b', 'c', 'd'},\n",
    "              trans={Transition('p1','a','p2'), Transition('p1','c','p3'), Transition('p2','d','p5'),\n",
    "                     Transition('p3','d','p4'), Transition('p5','a','p6'),Transition('p6','b','p4'),\n",
    "                     Transition('p6','d','p7'), Transition('p7','d','p8')},\n",
    "              marked={'p4'})\n",
    "\n",
    "Sp = Automaton(states={'q1', 'q2', 'q3', 'q4', 'q5', 'q6', 'q7', 'q8'},\n",
    "              init='q1',\n",
    "              events={'a', 'b', 'c', 'd'},\n",
    "              trans={Transition('q1','a','q2'), Transition('q1','c','q3'), Transition('q2','d','q5'),\n",
    "                     Transition('q3','d','q4'), Transition('q5','a','q6'),Transition('q6','b','q4'),\n",
    "                     Transition('q6','d','q7')},\n",
    "              marked={'q4'})\n",
    "\n",
    "S = supervisor(P, Sp, {'d'})\n",
    "plot_automaton(S, 'S_7dot6')"
   ]
  },
  {
   "cell_type": "code",
   "execution_count": 24,
   "metadata": {
    "deletable": false,
    "editable": false,
    "nbgrader": {
     "cell_type": "code",
     "checksum": "3b75580955333ea94ea0d7753a10ffa4",
     "grade": true,
     "grade_id": "ex7_6_test",
     "locked": true,
     "points": 1,
     "schema_version": 3,
     "solution": false
    }
   },
   "outputs": [],
   "source": [
    "assert type(S) is Automaton\n",
    "\n",
    "# These tests are optional but simplify the hidden tests\n",
    "p_states = {'p1', 'p2', 'p3', 'p4', 'p5', 'p6', 'p7', 'p8'}\n",
    "q_states = {'q1', 'q2', 'q3', 'q4', 'q5', 'q6', 'q7'}\n",
    "events = {'a', 'b', 'c', 'd'}\n",
    "assert all({s.startswith(tuple(p_states)) and s.endswith(tuple(q_states)) for s in S.states}), '\\\n",
    "    This is optional but, to simplify the tests, please use only the state name from the example \\\n",
    "    and synchronize in the same order, i.e init state would be p1.q1'\n",
    "assert all({e in events for e in S.events}), '\\\n",
    "    This is optional but, to simplify the tests, please use only the event labels from the example.'"
   ]
  },
  {
   "cell_type": "markdown",
   "metadata": {
    "deletable": false,
    "editable": false,
    "nbgrader": {
     "cell_type": "markdown",
     "checksum": "1e49cb179a20fda0eacb85ff82581357",
     "grade": false,
     "grade_id": "cell-d0937fdde76dec34",
     "locked": true,
     "schema_version": 3,
     "solution": false
    }
   },
   "source": [
    "## Exam Oct 2015 - Task 3\n",
    "\n",
    "Consider a plant $P$ with the language\n",
    "<center>\n",
    "$L(P) = \\overline{ac(b + d) + bc(a + ecd) + cd},$\n",
    "</center>\n",
    "and a specification $Sp$ given by the marked language\n",
    "<center>\n",
    "$L_m(Sp) = ab + ba + d.$\n",
    "</center>\n",
    "Assume that the events $d$ and $e$ are uncontrollable, while $a$, $b$ and $c$ are controllable.\n",
    "\n",
    "* Formulate automata for the languages $L(P)$ and $L_m(Sp)$ with minimal number of states.\n",
    "* Generate a controllable and nonblocking supervisor."
   ]
  },
  {
   "cell_type": "code",
   "execution_count": 25,
   "metadata": {
    "deletable": false,
    "nbgrader": {
     "cell_type": "code",
     "checksum": "3dc0db00d5421f8692b22a4dd1a3e55d",
     "grade": false,
     "grade_id": "task3_15",
     "locked": false,
     "schema_version": 3,
     "solution": true
    }
   },
   "outputs": [
    {
     "name": "stdout",
     "output_type": "stream",
     "text": [
      "{'p5.q2', 'p2.q2', 'p8.q3', 'p9.q3'}\n",
      "Here\n",
      "{'p8.q3', 'p2.q2', 'p5.q2', 'p9.q3'}\n",
      "{'p5.q2', 'p2.q2', 'p8.q3', 'p9.q3'}\n",
      "Here\n",
      "{'p6.q4', 'p1.q1', 'p7.q3', 'p3.q1', 'p4.q3'}\n"
     ]
    },
    {
     "data": {
      "image/png": "[encoded data removed]",
      "text/plain": [
       "<IPython.core.display.Image object>"
      ]
     },
     "execution_count": 25,
     "metadata": {},
     "output_type": "execute_result"
    }
   ],
   "source": [
    "P = Automaton(states={'p1', 'p2', 'p3', 'p4', 'p5', 'p6', 'p7', 'p8','p9'},\n",
    "              init='p1',\n",
    "              events={'a', 'b', 'c', 'd','e'},\n",
    "              trans={Transition('p1','a','p2'), Transition('p1','c','p3'), Transition('p1','b','p4'),\n",
    "                     Transition('p2','c','p5'), Transition('p3','d','p6'),Transition('p4','c','p7'),\n",
    "                     Transition('p5','b','p6'), Transition('p5','d','p6'),Transition('p7','a','p6'),\n",
    "                     Transition('p7','e','p8'),Transition('p8','c','p9'),Transition('p9','d','p6')})\n",
    "\n",
    "Sp = Automaton(states={'q1', 'q2', 'q3', 'q4'},\n",
    "              init='q1',\n",
    "              events={'a', 'b', 'd'},\n",
    "              trans={Transition('q1','a','q2'), Transition('q1','b','q3'), Transition('q1','d','q4'),\n",
    "                     Transition('q3','a','q4'), Transition('q2','b','q4')},\n",
    "              marked={'q4'})\n",
    "\n",
    "\n",
    "S = supervisor(P, Sp, {'d', 'e'})\n",
    "plot_automaton(S, 'S_3_15')"
   ]
  },
  {
   "cell_type": "code",
   "execution_count": 26,
   "metadata": {
    "deletable": false,
    "editable": false,
    "nbgrader": {
     "cell_type": "code",
     "checksum": "081251fca22bf6eda2ba05618a373f1d",
     "grade": true,
     "grade_id": "task3_15_test",
     "locked": true,
     "points": 1,
     "schema_version": 3,
     "solution": false
    }
   },
   "outputs": [],
   "source": [
    "assert type(S) is Automaton"
   ]
  },
  {
   "cell_type": "markdown",
   "metadata": {
    "deletable": false,
    "editable": false,
    "nbgrader": {
     "cell_type": "markdown",
     "checksum": "cd16eff0e124061cc7e9ec74e4c7d589",
     "grade": false,
     "grade_id": "cell-ec841dd5404b6a9b",
     "locked": true,
     "schema_version": 3,
     "solution": false
    }
   },
   "source": [
    "---"
   ]
  },
  {
   "cell_type": "markdown",
   "metadata": {
    "deletable": false,
    "editable": false,
    "nbgrader": {
     "cell_type": "markdown",
     "checksum": "7f4f068072b7aaa7ac371abcb2236602",
     "grade": false,
     "grade_id": "cell-95f78bff0e316da3",
     "locked": true,
     "schema_version": 3,
     "solution": false
    }
   },
   "source": [
    "# Task 4 *[2p]*\n",
    "\n",
    "Two people named **A** and **B** are playing a simple game. A number of sticks are lain\n",
    "out on the ground and the players take alternately one or two sticks. Note that at least\n",
    "one stick must be picked. The player that ends up with the last stick has lost the game.\n",
    "Player **A** is always the one that starts picking sticks. A related problem is introduced\n",
    "in Task 6.3 in the DES-exercises.\n",
    "\n",
    "* Model this game by an automaton `P`, with an initial number of five sticks. Hint: identify the events and the states.\n",
    "\n",
    "* Create a specification `Sp` by introducing a marked state in `P`, specifying that player **A** is to win and player **B** is to loose. Remember that the player left with only the final stick to pick, is the loser.\n",
    "\n",
    "* Generate by the algorithm in *Task 1* a supervisor `S` which guarantees that player **A** wins the game, i.e `S = supervisor(P, Sp, sigma_u)`. *Note* that the set of uncontrollable events `sigma_u` must first be decided."
   ]
  },
  {
   "cell_type": "code",
   "execution_count": 31,
   "metadata": {
    "deletable": false,
    "nbgrader": {
     "cell_type": "code",
     "checksum": "9948cb6a4a9a2a32fc955f31f1ed47a3",
     "grade": false,
     "grade_id": "task4",
     "locked": false,
     "schema_version": 3,
     "solution": true
    }
   },
   "outputs": [
    {
     "name": "stdout",
     "output_type": "stream",
     "text": [
      "{'4B.4B', '0A.0A', '2A.2A', '5A.5A', '1B.1B', '3A.3A'}\n"
     ]
    },
    {
     "data": {
      "image/png": "[encoded data removed]",
      "text/plain": [
       "<IPython.core.display.Image object>"
      ]
     },
     "execution_count": 31,
     "metadata": {},
     "output_type": "execute_result"
    }
   ],
   "source": [
    "# YOUR CODE HERE\n",
    "P = Automaton(states={'5A','4B','3A','2B','1A','0B','3B','2A','1B','0A'},\n",
    "              events={'a1','a2','b1','b2'},\n",
    "              init='5A',\n",
    "              trans={Transition('5A','a1','4B'), Transition('4B','b1','3A'), Transition('3A','a1','2B'),\n",
    "                    Transition('2B','b1','1A'), Transition('1A','a1','0B'), Transition('5A','a2','3B'),\n",
    "                    Transition('3B','b1','2A'), Transition('4B', 'b2', '2A'), Transition('2A','a1','1B'),\n",
    "                    Transition('3A','a2','1B'), Transition('1B', 'b1', '0A'), Transition('2B','b2','0A'),\n",
    "                    Transition('3B','b2','1A'), Transition('2A','a2','0B')})\n",
    "\n",
    "Sp = Automaton(states={'5A','4B','3A','2B','1A','0B','3B','2A','1B','0A'},\n",
    "              events={'a1','a2','b1','b2'},\n",
    "              init='5A',\n",
    "              trans={Transition('5A','a1','4B'), Transition('4B','b1','3A'), Transition('3A','a1','2B'),\n",
    "                    Transition('2B','b1','1A'), Transition('1A','a1','0B'), Transition('5A','a2','3B'),\n",
    "                    Transition('3B','b1','2A'), Transition('4B', 'b2', '2A'), Transition('2A','a1','1B'),\n",
    "                    Transition('3A','a2','1B'), Transition('1B', 'b1', '0A'), Transition('2B','b2','0A'),\n",
    "                    Transition('3B','b2','1A'), Transition('2A','a2','0B')},\n",
    "              marked={'0A'})\n",
    "sigma_u = {'b1','b2'}\n",
    "S = supervisor(P, Sp, sigma_u)\n",
    "plot_automaton(S, 'S_3_15')"
   ]
  },
  {
   "cell_type": "code",
   "execution_count": 32,
   "metadata": {
    "deletable": false,
    "editable": false,
    "nbgrader": {
     "cell_type": "code",
     "checksum": "d74bceebb5f9be6a597ef9a016a901f4",
     "grade": true,
     "grade_id": "task4_test",
     "locked": true,
     "points": 2,
     "schema_version": 3,
     "solution": false
    }
   },
   "outputs": [],
   "source": [
    "assert type(P) is Automaton\n",
    "assert type(Sp) is Automaton\n",
    "assert type(S) is Automaton\n",
    "\n",
    "assert P.states == Sp.states\n",
    "assert P.events == Sp.events\n",
    "assert P.init == Sp.init\n",
    "assert P.trans == Sp.trans\n",
    "assert P.marked == set() or P.marked == P.states\n",
    "assert len(Sp.marked) == 1"
   ]
  },
  {
   "cell_type": "markdown",
   "metadata": {
    "deletable": false,
    "editable": false,
    "nbgrader": {
     "cell_type": "markdown",
     "checksum": "e4f28d85a3e1c01330d98f49f014418f",
     "grade": false,
     "grade_id": "cell-ca4413be58012d08",
     "locked": true,
     "schema_version": 3,
     "solution": false
    }
   },
   "source": [
    "- - -\n",
    "\n",
    "Great! You have reached the bottom of the page. If you are done,\n",
    "\n",
    "* Save the notebook\n",
    "* Upload the .ipynb file to Canvas\n",
    "* Go for fika! "
   ]
  },
  {
   "cell_type": "code",
   "execution_count": null,
   "metadata": {},
   "outputs": [],
   "source": []
  }
 ],
 "metadata": {
  "kernelspec": {
   "display_name": "Python 3",
   "language": "python",
   "name": "python3"
  },
  "language_info": {
   "codemirror_mode": {
    "name": "ipython",
    "version": 3
   },
   "file_extension": ".py",
   "mimetype": "text/x-python",
   "name": "python",
   "nbconvert_exporter": "python",
   "pygments_lexer": "ipython3",
   "version": "3.6.9"
  },
  "latex_envs": {
   "LaTeX_envs_menu_present": true,
   "autoclose": false,
   "autocomplete": true,
   "bibliofile": "biblio.bib",
   "cite_by": "apalike",
   "current_citInitial": 1,
   "eqLabelWithNumbers": true,
   "eqNumInitial": 1,
   "hotkeys": {
    "equation": "Ctrl-E",
    "itemize": "Ctrl-I"
   },
   "labels_anchors": false,
   "latex_user_defs": false,
   "report_style_numbering": false,
   "user_envs_cfg": false
  }
 },
 "nbformat": 4,
 "nbformat_minor": 2
}
